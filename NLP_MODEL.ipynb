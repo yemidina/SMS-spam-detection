{
  "cells": [
    {
      "cell_type": "markdown",
      "metadata": {
        "id": "view-in-github",
        "colab_type": "text"
      },
      "source": [
        "<a href=\"https://colab.research.google.com/github/RebuniTech/nlp-2022/blob/main/NLP_MODEL.ipynb\" target=\"_parent\"><img src=\"https://colab.research.google.com/assets/colab-badge.svg\" alt=\"Open In Colab\"/></a>"
      ]
    },
    {
      "cell_type": "code",
      "execution_count": null,
      "metadata": {
        "id": "wtYZxz8ZX5ue"
      },
      "outputs": [],
      "source": [
        "import os\n",
        "import numpy as np\n",
        "import pandas as pd\n",
        "import matplotlib.pyplot as plt\n",
        "\n",
        "from sklearn.feature_extraction.text import CountVectorizer\n",
        "from sklearn.feature_extraction.text import TfidfTransformer\n",
        "from sklearn.metrics import accuracy_score, classification_report,ConfusionMatrixDisplay\n",
        "from sklearn.model_selection import train_test_split\n",
        "from sklearn.preprocessing import StandardScaler\n",
        "from sklearn.naive_bayes import MultinomialNB\n",
        "from sklearn.svm import LinearSVC\n",
        "from sklearn.tree import DecisionTreeClassifier, plot_tree"
      ]
    },
    {
      "cell_type": "code",
      "execution_count": null,
      "metadata": {
        "colab": {
          "base_uri": "https://localhost:8080/"
        },
        "id": "NzSA1gnmYa0n",
        "outputId": "2c08a625-bc9d-4da0-fdba-a4d1e50a97e8"
      },
      "outputs": [
        {
          "output_type": "stream",
          "name": "stdout",
          "text": [
            "  % Total    % Received % Xferd  Average Speed   Time    Time     Time  Current\n",
            "                                 Dload  Upload   Total   Spent    Left  Speed\n",
            "\r  0     0    0     0    0     0      0      0 --:--:-- --:--:-- --:--:--     0\r100  501k  100  501k    0     0  7380k      0 --:--:-- --:--:-- --:--:-- 7380k\n"
          ]
        }
      ],
      "source": [
        "# Downloading Dataset into Colab Enviroment\n",
        "!curl \"https://raw.githubusercontent.com/RebuniTech/Sms_SPam-detection/main/sms_dataset.tsv\" --output sms_dataset.tsv"
      ]
    },
    {
      "cell_type": "code",
      "execution_count": null,
      "metadata": {
        "colab": {
          "base_uri": "https://localhost:8080/"
        },
        "id": "mi79lzY3aFym",
        "outputId": "03e57dca-30a7-4f5d-bc8c-6fd0384893a4"
      },
      "outputs": [
        {
          "output_type": "stream",
          "name": "stdout",
          "text": [
            "Total Dataset: 5572\n"
          ]
        }
      ],
      "source": [
        "df = pd.read_csv('sms_dataset.tsv', sep='\\t')\n",
        "print(\"Total Dataset:\", len(df))"
      ]
    },
    {
      "cell_type": "code",
      "execution_count": null,
      "metadata": {
        "colab": {
          "base_uri": "https://localhost:8080/"
        },
        "id": "oBgpayYMa_Tv",
        "outputId": "6848c5db-5842-4849-a8e6-e0ebd34faa00"
      },
      "outputs": [
        {
          "output_type": "execute_result",
          "data": {
            "text/plain": [
              "label      0\n",
              "message    0\n",
              "length     0\n",
              "punct      0\n",
              "dtype: int64"
            ]
          },
          "metadata": {},
          "execution_count": 4
        }
      ],
      "source": [
        "df.isna().sum()"
      ]
    },
    {
      "cell_type": "code",
      "execution_count": null,
      "metadata": {
        "colab": {
          "base_uri": "https://localhost:8080/",
          "height": 427
        },
        "id": "sPArAluWbKT7",
        "outputId": "a51e6fa6-5b35-4d32-ffe1-92c71b706fc5"
      },
      "outputs": [
        {
          "output_type": "display_data",
          "data": {
            "image/png": "[encoded data removed]",
            "text/plain": [
              "<Figure size 720x504 with 1 Axes>"
            ]
          },
          "metadata": {}
        }
      ],
      "source": [
        "#plt.figure(, dpi=75)\n",
        "df.label.value_counts().plot(kind='pie', figsize=(10, 7))\n",
        "plt.title('Value Counts')\n",
        "plt.xlabel('')\n",
        "plt.ylabel('')\n",
        "plt.show()"
      ]
    },
    {
      "cell_type": "code",
      "execution_count": null,
      "metadata": {
        "id": "4nbSseGHbzfG"
      },
      "outputs": [],
      "source": [
        "X = df.message # X_feature\n",
        "y = df.label # y_label\n",
        "\n",
        "X_train, X_test, y_train, y_test = train_test_split(X, y, test_size=0.3, random_state=42)\n",
        "\n",
        "count_vectorizer = CountVectorizer()\n",
        "tfidf_transformer = TfidfTransformer()\n",
        "\n",
        "count_vectorizer.fit(X_train)\n",
        "X_train_cv = count_vectorizer.transform(X_train)\n",
        "tfidf_transformer.fit(X_train_cv)\n",
        "X_train_tfidf = tfidf_transformer.transform(X_train_cv)\n",
        "\n",
        "X_test_cv = count_vectorizer.transform(X_test)\n",
        "X_test_tfidf = tfidf_transformer.transform(X_test_cv)"
      ]
    },
    {
      "cell_type": "markdown",
      "metadata": {
        "id": "D5GoS5FX1fPF"
      },
      "source": [
        "# Using Naive Bayes"
      ]
    },
    {
      "cell_type": "code",
      "execution_count": null,
      "metadata": {
        "colab": {
          "base_uri": "https://localhost:8080/",
          "height": 279
        },
        "id": "MaW9A5AKd__B",
        "outputId": "f1aa4d01-abbc-44a6-e947-870132a082f7"
      },
      "outputs": [
        {
          "output_type": "display_data",
          "data": {
            "image/png": "[encoded data removed]",
            "text/plain": [
              "<Figure size 432x288 with 2 Axes>"
            ]
          },
          "metadata": {
            "needs_background": "light"
          }
        }
      ],
      "source": [
        "naiv_bayes = MultinomialNB()\n",
        "naiv_bayes.fit(X_train_tfidf, y_train)\n",
        "\n",
        "prediction = naiv_bayes.predict(X_test_tfidf)\n",
        "ConfusionMatrixDisplay.from_estimator(naiv_bayes, X_test_tfidf, y_test)\n",
        "plt.show()"
      ]
    },
    {
      "cell_type": "code",
      "execution_count": null,
      "metadata": {
        "colab": {
          "base_uri": "https://localhost:8080/"
        },
        "id": "k3PL8ml8e3zx",
        "outputId": "4c203f89-dc87-4fb4-b805-6b5d67a83d9d"
      },
      "outputs": [
        {
          "output_type": "stream",
          "name": "stdout",
          "text": [
            "              precision    recall  f1-score   support\n",
            "\n",
            "         ham       0.96      1.00      0.98      1448\n",
            "        spam       1.00      0.72      0.84       224\n",
            "\n",
            "    accuracy                           0.96      1672\n",
            "   macro avg       0.98      0.86      0.91      1672\n",
            "weighted avg       0.96      0.96      0.96      1672\n",
            "\n"
          ]
        }
      ],
      "source": [
        "print(classification_report(y_test, prediction))"
      ]
    },
    {
      "cell_type": "markdown",
      "metadata": {
        "id": "OmA2k1-V7dic"
      },
      "source": [
        "# Using Decision Tree"
      ]
    },
    {
      "cell_type": "code",
      "execution_count": null,
      "metadata": {
        "colab": {
          "base_uri": "https://localhost:8080/",
          "height": 279
        },
        "id": "1JOf8rTa69yc",
        "outputId": "003f28f7-ad5e-4cff-ded0-133b0865b982"
      },
      "outputs": [
        {
          "output_type": "display_data",
          "data": {
            "image/png": "[encoded data removed]",
            "text/plain": [
              "<Figure size 432x288 with 2 Axes>"
            ]
          },
          "metadata": {
            "needs_background": "light"
          }
        }
      ],
      "source": [
        "dt_cls = DecisionTreeClassifier()\n",
        "dt_cls.fit(X_train_tfidf, y_train)\n",
        "prediction = dt_cls.predict(X_test_tfidf)\n",
        "ConfusionMatrixDisplay.from_estimator(dt_cls, X_test_tfidf, y_test)\n",
        "plt.show()"
      ]
    },
    {
      "cell_type": "code",
      "execution_count": null,
      "metadata": {
        "colab": {
          "base_uri": "https://localhost:8080/"
        },
        "id": "gMuJJ0Ji7KwK",
        "outputId": "743fd2e9-fe7d-4810-e62f-72049cde224c"
      },
      "outputs": [
        {
          "output_type": "stream",
          "name": "stdout",
          "text": [
            "              precision    recall  f1-score   support\n",
            "\n",
            "         ham       0.97      0.99      0.98      1448\n",
            "        spam       0.90      0.79      0.84       224\n",
            "\n",
            "    accuracy                           0.96      1672\n",
            "   macro avg       0.94      0.89      0.91      1672\n",
            "weighted avg       0.96      0.96      0.96      1672\n",
            "\n"
          ]
        }
      ],
      "source": [
        "print(classification_report(y_test, prediction))"
      ]
    },
    {
      "cell_type": "markdown",
      "metadata": {
        "id": "TiIp2Pty0qdq"
      },
      "source": [
        "# Using Linear SVC "
      ]
    },
    {
      "cell_type": "code",
      "execution_count": null,
      "metadata": {
        "colab": {
          "base_uri": "https://localhost:8080/",
          "height": 279
        },
        "id": "0Z82DxthcT_c",
        "outputId": "61ff567e-9b76-4621-dc93-32892435cbc9"
      },
      "outputs": [
        {
          "output_type": "display_data",
          "data": {
            "image/png": "[encoded data removed]",
            "text/plain": [
              "<Figure size 432x288 with 2 Axes>"
            ]
          },
          "metadata": {
            "needs_background": "light"
          }
        }
      ],
      "source": [
        "lsvc = LinearSVC()\n",
        "svc = lsvc.fit(X_train_tfidf, y_train)\n",
        "prediction = lsvc.predict(X_test_tfidf)\n",
        "ConfusionMatrixDisplay.from_estimator(lsvc, X_test_tfidf, y_test)\n",
        "plt.show()"
      ]
    },
    {
      "cell_type": "code",
      "execution_count": null,
      "metadata": {
        "colab": {
          "base_uri": "https://localhost:8080/"
        },
        "id": "XxlSsjjrdujL",
        "outputId": "7f7c0ba9-76bc-4b16-d51a-d82b8dd63769"
      },
      "outputs": [
        {
          "output_type": "stream",
          "name": "stdout",
          "text": [
            "              precision    recall  f1-score   support\n",
            "\n",
            "         ham       0.99      1.00      1.00      1448\n",
            "        spam       0.99      0.96      0.97       224\n",
            "\n",
            "    accuracy                           0.99      1672\n",
            "   macro avg       0.99      0.98      0.98      1672\n",
            "weighted avg       0.99      0.99      0.99      1672\n",
            "\n",
            "Accurancy:  0.9922248803827751\n"
          ]
        }
      ],
      "source": [
        "print(classification_report(y_test, prediction))\n",
        "print(\"Accurancy: \", accuracy_score(y_test, prediction))"
      ]
    }
  ],
  "metadata": {
    "colab": {
      "collapsed_sections": [],
      "name": "NLP_MODEL.ipynb",
      "provenance": [],
      "include_colab_link": true
    },
    "kernelspec": {
      "display_name": "Python 3",
      "name": "python3"
    },
    "language_info": {
      "name": "python"
    },
    "accelerator": "GPU"
  },
  "nbformat": 4,
  "nbformat_minor": 0
}